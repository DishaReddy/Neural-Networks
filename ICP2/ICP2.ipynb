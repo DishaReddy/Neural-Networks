{
  "nbformat": 4,
  "nbformat_minor": 0,
  "metadata": {
    "colab": {
      "provenance": []
    },
    "kernelspec": {
      "name": "python3",
      "display_name": "Python 3"
    },
    "language_info": {
      "name": "python"
    }
  },
  "cells": [
    {
      "cell_type": "code",
      "execution_count": null,
      "metadata": {
        "id": "bgdWEAAVD_kZ"
      },
      "outputs": [],
      "source": [
        "import numpy as np"
      ]
    },
    {
      "cell_type": "code",
      "source": [
        "class Employee():\n",
        "    # create data members to keep count of employee count and list of salaries\n",
        "    emp_count = 0\n",
        "\n",
        "    # constructor to initilize the variables\n",
        "    def __init__(self,name,family,salary,department):\n",
        "        self.name = name,\n",
        "        self.family = family,\n",
        "        self.salary = salary,\n",
        "        self.department = department,\n",
        "        Employee.emp_count += 1\n",
        "\n",
        "    # funtion to return average of salary\n",
        "    def avg_salary(employees:list):\n",
        "        salaries_list = [emp.salary[0] for emp in employees]\n",
        "        avg_sal = sum(salaries_list)/Employee.emp_count\n",
        "        return avg_sal\n",
        "\n",
        "# created FullTimeEmployee class and inherit the properties from Employee class\n",
        "class FullTimeEmployee(Employee):\n",
        "    def __init__(self,name,family,salary,department):\n",
        "        # calling parent class constructor\n",
        "        super().__init__(name,family,salary,department)\n",
        "\n",
        "employees = []\n",
        "employees.append(Employee(\"Naveen\",\"Palem\",50000,\"analytics\"))\n",
        "employees.append(Employee(\"Vedamsh\",\" Reddy\",75000,\"CTO\"))\n",
        "\n",
        "employees.append(FullTimeEmployee(\" Praneeth \",\" Chinnasama \",60000,\"data science\"))\n",
        "employees.append(FullTimeEmployee(\" Rupesh \",\" Gundeti\",85000,\"data analytics\"))\n",
        "\n",
        "\n",
        "print(\"using employee class\",Employee.avg_salary(employees))\n",
        "print(\"using fulltime employee class\",FullTimeEmployee.avg_salary(employees))"
      ],
      "metadata": {
        "colab": {
          "base_uri": "https://localhost:8080/"
        },
        "id": "yKNlfoWpFJrV",
        "outputId": "d1b74bd0-bbf0-495d-8357-e6b0a63e1f23"
      },
      "execution_count": null,
      "outputs": [
        {
          "output_type": "stream",
          "name": "stdout",
          "text": [
            "using employee class 67500.0\n",
            "using fulltime employee class 67500.0\n"
          ]
        }
      ]
    },
    {
      "cell_type": "code",
      "source": [
        "arr = np.random.uniform(1,20,20)\n",
        "arr = arr.reshape(4,5)"
      ],
      "metadata": {
        "id": "-daZLOzdHXnx"
      },
      "execution_count": null,
      "outputs": []
    },
    {
      "cell_type": "code",
      "source": [
        "# Task : replace the max in each row by 0 (axis = 1)\n",
        "\n",
        "# print array before replacement\n",
        "print(\"Array before :\\n\\n\",arr,end=\"\\n\\n\\n\")\n",
        "\n",
        "# get max elements of each row and reshape it\n",
        "each_row_max = np.max(arr,axis = 1).reshape(-1,1)\n",
        "\n",
        "arr[arr == each_row_max] = 0\n",
        "\n",
        "# print array after replacement\n",
        "print(\"Array after replace the max element of each row with 0: \\n\\n\", arr)"
      ],
      "metadata": {
        "colab": {
          "base_uri": "https://localhost:8080/"
        },
        "id": "M014pYCPImVd",
        "outputId": "069df112-d413-4c19-90cb-c701c0dc0128"
      },
      "execution_count": 16,
      "outputs": [
        {
          "output_type": "stream",
          "name": "stdout",
          "text": [
            "Array before :\n",
            "\n",
            " [[0.         0.         0.         1.         1.26940775]\n",
            " [0.         0.         1.22001392 0.         1.        ]\n",
            " [1.         0.         0.         1.66623788 0.        ]\n",
            " [0.         0.         2.5242191  0.         1.        ]]\n",
            "\n",
            "\n",
            "Array after replace the max element of each row with 0: \n",
            "\n",
            " [[0. 0. 0. 1. 0.]\n",
            " [0. 0. 0. 0. 1.]\n",
            " [1. 0. 0. 0. 0.]\n",
            " [0. 0. 0. 0. 1.]]\n"
          ]
        }
      ]
    },
    {
      "cell_type": "markdown",
      "source": [
        "ICP2 NEURAL NETWORKS\n",
        "DISHA REDDY- 700755814\n",
        "https://drive.google.com/file/d/1DW0KZMkWpG6wuJvHt5JB8J1RkbJ0m322/view?usp=sharing"
      ],
      "metadata": {
        "id": "KFt2Smq7JZKe"
      }
    }
  ]
}