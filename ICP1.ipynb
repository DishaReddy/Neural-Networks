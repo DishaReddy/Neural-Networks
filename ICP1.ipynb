{
  "nbformat": 4,
  "nbformat_minor": 0,
  "metadata": {
    "colab": {
      "provenance": []
    },
    "kernelspec": {
      "name": "python3",
      "display_name": "Python 3"
    },
    "language_info": {
      "name": "python"
    }
  },
  "cells": [
    {
      "cell_type": "code",
      "execution_count": 1,
      "metadata": {
        "colab": {
          "base_uri": "https://localhost:8080/"
        },
        "id": "6kZlY2l16twE",
        "outputId": "adaa3aec-7fb4-428b-bac1-152fe6526433"
      },
      "outputs": [
        {
          "output_type": "stream",
          "name": "stdout",
          "text": [
            "Enter your first name: Disha\n",
            "Enter your last name: Reddy\n",
            "Disha Reddy\n",
            "DsaRdy\n"
          ]
        }
      ],
      "source": [
        "def fullname(f_name, l_name):\n",
        "  return f_name+\" \"+l_name\n",
        "def alternative_string(fullname):\n",
        "  return fullname[::2]\n",
        "if __name__ == \"__main__\":\n",
        "   f_name = input(\"Enter your first name: \")\n",
        "   l_name = input(\"Enter your last name: \")\n",
        "   print(fullname(f_name, l_name))\n",
        "   print(alternative_string(fullname(f_name,l_name)))"
      ]
    },
    {
      "cell_type": "code",
      "source": [
        "with open(\"input.txt\", \"w\") as file:\n",
        "    file.write(\"Python Course\\n\")\n",
        "    file.write(\"Deep Learning Course\\n\")\n",
        "\n",
        "def word_count(input_file, output_file):\n",
        "    try:\n",
        "        with open(input_file, 'r') as infile:\n",
        "            lines = infile.readlines()\n",
        "        word_counts = {}\n",
        "        for line in lines:\n",
        "            line = line.strip()\n",
        "            words = line.split()\n",
        "            for word in words:\n",
        "                word = word.strip().strip('.,!?\"\\'').lower()\n",
        "                word_counts[word] = word_counts.get(word, 0) + 1\n",
        "        with open(output_file, 'w') as outfile:\n",
        "            outfile.write(\"\\n\".join(lines))\n",
        "            outfile.write(\"\\nWord_Count:\\n\")\n",
        "            for word, count in word_counts.items():\n",
        "                outfile.write(f\"{word.capitalize()}: {count}\\n\")\n",
        "        print(f\"Word count successfully written to {output_file}\")\n",
        "    except FileNotFoundError:\n",
        "        print(f\"Error: The file {input_file} does not exist.\")\n",
        "\n",
        "input_file = 'input.txt'\n",
        "output_file = 'output.txt'\n",
        "word_count(input_file, output_file)"
      ],
      "metadata": {
        "colab": {
          "base_uri": "https://localhost:8080/"
        },
        "id": "NgPU-YW662MC",
        "outputId": "1f1af130-077e-487b-c1fc-20ada4292517"
      },
      "execution_count": 2,
      "outputs": [
        {
          "output_type": "stream",
          "name": "stdout",
          "text": [
            "Word count successfully written to output.txt\n"
          ]
        }
      ]
    },
    {
      "cell_type": "code",
      "source": [
        "def inches_to_centimeters(inches):\n",
        "    \"\"\"Convert inches to centimeters.\"\"\"\n",
        "    return inches * 2.54\n",
        "if __name__ == \"__main__\":\n",
        "    n = int(input(\"Enter the number of heights to be recorded: \"))\n",
        "    heights_in_inches = []\n",
        "    heights_in_centimeters = []\n",
        "    for i in range(n):\n",
        "        height = float(input(f\"Enter height {i + 1} in inches: \"))\n",
        "        heights_in_inches.append(height)\n",
        "    for height in heights_in_inches:\n",
        "        height_cm = inches_to_centimeters(height)\n",
        "        heights_in_centimeters.append(height_cm)\n",
        "    print(\"\\nHeights in inches:\")\n",
        "    for height in heights_in_inches:\n",
        "        print(height)\n",
        "    print(\"\\nHeights in centimeters:\")\n",
        "    for height in heights_in_centimeters:\n",
        "        print(height)"
      ],
      "metadata": {
        "colab": {
          "base_uri": "https://localhost:8080/"
        },
        "id": "ZR1hctuc7AK7",
        "outputId": "d4296593-396b-4820-8cb1-e23be7aa9a34"
      },
      "execution_count": 3,
      "outputs": [
        {
          "output_type": "stream",
          "name": "stdout",
          "text": [
            "Enter the number of heights to be recorded: 4\n",
            "Enter height 1 in inches: 150\n",
            "Enter height 2 in inches: 155\n",
            "Enter height 3 in inches: 145\n",
            "Enter height 4 in inches: 148\n",
            "\n",
            "Heights in inches:\n",
            "150.0\n",
            "155.0\n",
            "145.0\n",
            "148.0\n",
            "\n",
            "Heights in centimeters:\n",
            "381.0\n",
            "393.7\n",
            "368.3\n",
            "375.92\n"
          ]
        }
      ]
    },
    {
      "cell_type": "code",
      "source": [],
      "metadata": {
        "id": "Yj8hjbty7JEA"
      },
      "execution_count": null,
      "outputs": []
    }
  ]
}